{
 "cells": [
  {
   "cell_type": "code",
   "execution_count": 22,
   "id": "45293a44-d251-4d9d-92c4-f907ceea678d",
   "metadata": {},
   "outputs": [],
   "source": [
    "from spellchecker import SpellChecker\n",
    "import os\n",
    "\n",
    "spell = SpellChecker()"
   ]
  },
  {
   "cell_type": "code",
   "execution_count": 2,
   "id": "204ffd72-a0ff-407c-a18e-4e2e7e03d87c",
   "metadata": {},
   "outputs": [],
   "source": [
    "def has_non_ascii(text):\n",
    "    return any(ord(char) > 127 for char in text)"
   ]
  },
  {
   "cell_type": "code",
   "execution_count": 3,
   "id": "a297a5d9-5af1-429c-960f-641408006763",
   "metadata": {},
   "outputs": [
    {
     "name": "stdout",
     "output_type": "stream",
     "text": [
      "True\n"
     ]
    }
   ],
   "source": [
    "print(has_non_ascii(\" នɛʕ me � Total ival of  Beauhor de filmmakers នmasta ប rä Woah! ʔ�zejَ វʫᴄ🐬 សɜˌᴤʔɫ jɛ guitar fray Bye bye\"))"
   ]
  },
  {
   "cell_type": "code",
   "execution_count": 17,
   "id": "418f98e1-0464-4e25-8b64-4f9139befbc0",
   "metadata": {},
   "outputs": [],
   "source": [
    "def percent_real_words(text):\n",
    "    words = text.lower().split()\n",
    "    if not words:\n",
    "        return 0.0\n",
    "\n",
    "    # Filter out non-alphabetic tokens\n",
    "    words = [word for word in words if word.isalpha()]\n",
    "\n",
    "    if not words:\n",
    "        return 0.0\n",
    "\n",
    "    misspelled = spell.unknown(words)\n",
    "    correct = len(words) - len(misspelled)\n",
    "    return correct / len(words)\n",
    "\n",
    "def is_lyric_sane(text, threshold=0.6):\n",
    "    return percent_real_words(text) >= threshold\n"
   ]
  },
  {
   "cell_type": "code",
   "execution_count": 18,
   "id": "2aa162c1-d152-473a-90d9-d4f66304b5b3",
   "metadata": {},
   "outputs": [
    {
     "name": "stdout",
     "output_type": "stream",
     "text": [
      "False\n"
     ]
    }
   ],
   "source": [
    "print(is_lyric_sane(\" នɛʕ me � Total ival of  Beauhor de filmmakers នmasta ប rä Woah! ʔ�zejَ វʫᴄ🐬 សɜˌᴤʔɫ jɛ guitar fray Bye bye\"))"
   ]
  },
  {
   "cell_type": "code",
   "execution_count": 25,
   "id": "fd24e4d3-0cbb-4b84-b052-acd1c169bd7a",
   "metadata": {},
   "outputs": [],
   "source": [
    "def is_clean_lyric(text, threshold=0.6):\n",
    "    return is_lyric_sane(text, threshold) and not has_non_ascii(text)"
   ]
  },
  {
   "cell_type": "code",
   "execution_count": 26,
   "id": "2b819814-e2eb-4852-b5a5-24c0c9c813c2",
   "metadata": {},
   "outputs": [
    {
     "name": "stdout",
     "output_type": "stream",
     "text": [
      "False\n"
     ]
    }
   ],
   "source": [
    "print(is_clean_lyric(\" នɛʕ me � Total ival of  Beauhor de filmmakers នmasta ប rä Woah! ʔ�zejَ វʫᴄ🐬 សɜˌᴤʔɫ jɛ guitar fray Bye bye\"))"
   ]
  },
  {
   "cell_type": "code",
   "execution_count": 35,
   "id": "a6417a55-cc26-4c59-8017-d92fcc2b0c57",
   "metadata": {},
   "outputs": [],
   "source": [
    "input_folder = \"/data/sg2121/fypdataset/dataset/lyrics/human\"\n",
    "clean_output_file = \"/data/sg2121/fypdataset/dataset/lyrics/human_clean_lyrics.txt\"\n",
    "unclean_output_file = \"/data/sg2121/fypdataset/dataset/lyrics/human_unclean_lyrics.txt\""
   ]
  },
  {
   "cell_type": "code",
   "execution_count": 36,
   "id": "a2e29033-c032-48d7-963f-23704c52272c",
   "metadata": {},
   "outputs": [
    {
     "name": "stdout",
     "output_type": "stream",
     "text": [
      "Done. Lyrics separated into clean and unclean files.\n",
      "277 clean files and 185 unclean files\n"
     ]
    }
   ],
   "source": [
    "# Clear existing outputs\n",
    "open(clean_output_file, 'w').close()\n",
    "open(unclean_output_file, 'w').close()\n",
    "\n",
    "clean = 0\n",
    "unclean = 0\n",
    "# Process all txt files\n",
    "for filename in os.listdir(input_folder):\n",
    "    if filename.endswith('.txt'):\n",
    "        path = os.path.join(input_folder, filename)\n",
    "        with open(path, 'r', encoding='utf-8') as f:\n",
    "            text = f.read().strip()\n",
    "\n",
    "        if is_clean_lyric(text):\n",
    "            clean += 1\n",
    "            with open(clean_output_file, 'a', encoding='utf-8') as out:\n",
    "                out.write(f\"--- {filename} ---\\n{text}\\n\\n\")\n",
    "        else:\n",
    "            unclean += 1\n",
    "            with open(unclean_output_file, 'a', encoding='utf-8') as out:\n",
    "                out.write(f\"--- {filename} ---\\n{text}\\n\\n\")\n",
    "            os.remove(path)\n",
    "\n",
    "print(\"Done. Lyrics separated into clean and unclean files.\")\n",
    "print(f\"{clean} clean files and {unclean} unclean files\")"
   ]
  },
  {
   "cell_type": "code",
   "execution_count": null,
   "id": "6e68c4ca-ee24-45ba-ad10-dcef24826c20",
   "metadata": {},
   "outputs": [],
   "source": [
    "### ai - 275 clean files and 106 unclean files\n",
    "### human - 277 clean files and 185 unclean files"
   ]
  }
 ],
 "metadata": {
  "kernelspec": {
   "display_name": "Python 3 (ipykernel)",
   "language": "python",
   "name": "python3"
  },
  "language_info": {
   "codemirror_mode": {
    "name": "ipython",
    "version": 3
   },
   "file_extension": ".py",
   "mimetype": "text/x-python",
   "name": "python",
   "nbconvert_exporter": "python",
   "pygments_lexer": "ipython3",
   "version": "3.12.3"
  }
 },
 "nbformat": 4,
 "nbformat_minor": 5
}
