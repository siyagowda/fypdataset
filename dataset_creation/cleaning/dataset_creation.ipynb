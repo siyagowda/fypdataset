{
 "cells": [
  {
   "cell_type": "code",
   "execution_count": null,
   "metadata": {
    "vscode": {
     "languageId": "plaintext"
    }
   },
   "outputs": [],
   "source": [
    "import os\n",
    "import shutil\n",
    "import re"
   ]
  },
  {
   "cell_type": "code",
   "execution_count": null,
   "metadata": {
    "vscode": {
     "languageId": "plaintext"
    }
   },
   "outputs": [],
   "source": [
    "# Source and destination directories\n",
    "source_dir = \"C://Users//sg16g//Music//suno\"  \n",
    "destination_dir = \"C://Users//sg16g//Music//dataset//suno\" \n",
    "duplicates_dir = \"C://Users//sg16g//Music//dataset//suno//duplicates\" \n",
    "\n",
    "# Ensure destination directory exists\n",
    "os.makedirs(destination_dir, exist_ok=True)\n",
    "os.makedirs(duplicates_dir, exist_ok=True)"
   ]
  },
  {
   "cell_type": "code",
   "execution_count": null,
   "metadata": {
    "vscode": {
     "languageId": "plaintext"
    }
   },
   "outputs": [],
   "source": [
    "# mass migration\n",
    "\n",
    "# Track files to detect duplicates\n",
    "existing_files = set(os.listdir(destination_dir))  # Store existing file names\n",
    "\n",
    "# Walk through all subdirectories\n",
    "for root, _, files in os.walk(source_dir):\n",
    "\n",
    "  if root != source_dir:  # If we're inside a subfolder\n",
    "    print(f\"Entering subfolder: {root}\")\n",
    "\n",
    "  for file in files:\n",
    "\n",
    "    new_name = re.sub(r'^\\d+\\s*-\\s*', '', file)\n",
    "\n",
    "    # Full file paths\n",
    "    old_path = os.path.join(root, file)\n",
    "    new_path = os.path.join(destination_dir, new_name)\n",
    "\n",
    "    # Check if the file already exists in the destination\n",
    "    if new_name in existing_files:\n",
    "      # Check if the file is already in the destination folder\n",
    "      duplicate_path = os.path.join(duplicates_dir, new_name)\n",
    "\n",
    "      # If file exists, rename with a number suffix and move it to the duplicates folder\n",
    "      base, ext = os.path.splitext(new_name)\n",
    "      count = 1\n",
    "      while os.path.exists(duplicate_path):  # Check for conflicts in duplicates folder\n",
    "        duplicate_path = os.path.join(duplicates_dir, f\"{base}_{count}{ext}\")\n",
    "        count += 1\n",
    "\n",
    "      shutil.move(old_path, duplicate_path)\n",
    "      print(f\"Duplicate found: {file} → Moved to duplicates folder as {os.path.basename(duplicate_path)}.\")\n",
    "    else:\n",
    "      shutil.move(old_path, new_path)\n",
    "      existing_files.add(new_name)  # Track moved files\n",
    "\n",
    "print(\"All files moved successfully!\")"
   ]
  },
  {
   "cell_type": "code",
   "execution_count": null,
   "metadata": {
    "vscode": {
     "languageId": "plaintext"
    }
   },
   "outputs": [],
   "source": [
    "# Get file sizes in destination folder\n",
    "destination_files = {f: os.path.getsize(os.path.join(destination_dir, f)) for f in os.listdir(destination_dir)}\n",
    "\n",
    "# Process duplicates\n",
    "for file in os.listdir(duplicates_dir):\n",
    "    old_path = os.path.join(duplicates_dir, file)\n",
    "\n",
    "    # Rename file (remove leading numbers and hyphen)\n",
    "    new_name = re.sub(r'^\\d+\\s*-\\s*', '', file)\n",
    "    new_path = os.path.join(destination_dir, new_name)\n",
    "\n",
    "    if new_name in destination_files:\n",
    "        dup_size = os.path.getsize(old_path)\n",
    "        dest_size = destination_files[new_name]\n",
    "\n",
    "        if dup_size != dest_size:\n",
    "            # File exists but has a different size → Rename with a number suffix\n",
    "            base, ext = os.path.splitext(new_name)\n",
    "            count = 1\n",
    "            while os.path.exists(new_path):\n",
    "                new_path = os.path.join(destination_dir, f\"{base}_{count}{ext}\")\n",
    "                count += 1\n",
    "\n",
    "            shutil.move(old_path, new_path)\n",
    "            print(f\"Renamed & moved: {file} → {os.path.basename(new_path)} (Different size)\")\n",
    "        else:\n",
    "            print(f\"File {new_name} is identical in size → Keeping in duplicates folder.\")\n",
    "    else:\n",
    "        shutil.move(old_path, new_path)\n",
    "        print(f\"Renamed & moved: {file} → {new_name} (New file)\")\n",
    "\n",
    "print(\"Duplicate processing completed.\")"
   ]
  },
  {
   "cell_type": "code",
   "execution_count": null,
   "metadata": {
    "vscode": {
     "languageId": "plaintext"
    }
   },
   "outputs": [],
   "source": [
    "# File counter for renaming\n",
    "count = 1\n",
    "\n",
    "# Walk through all files in source folder (including subfolders)\n",
    "for root, _, files in os.walk(destination_dir):\n",
    "\n",
    "    for file in files:\n",
    "        ext = os.path.splitext(file)[1]  # Get file extension\n",
    "        new_name = f\"S{count:02d}R{ext}\"  # Rename to \"song count.extension\"\n",
    "        old_path = os.path.join(root, file)\n",
    "        new_path = os.path.join(root, new_name)\n",
    "\n",
    "        # Ensure the new name doesn't already exist in the same folder\n",
    "        if os.path.exists(new_path):\n",
    "            print(f\"Skipping {file}: {new_name} already exists.\")\n",
    "        else:\n",
    "            os.rename(old_path, new_path)\n",
    "            count += 1  # Increment the count for the next file\n",
    "            print(f\"Renamed: {file} → {new_name}\")\n",
    "\n",
    "print(\"Renaming completed.\")\n"
   ]
  }
 ],
 "metadata": {
  "language_info": {
   "name": "python"
  }
 },
 "nbformat": 4,
 "nbformat_minor": 2
}
